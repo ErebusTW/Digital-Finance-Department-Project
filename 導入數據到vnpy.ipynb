{
 "cells": [
  {
   "cell_type": "markdown",
   "metadata": {},
   "source": [
    "**<font  size=6> 導入數據到vnpy </font>**"
   ]
  },
  {
   "cell_type": "code",
   "execution_count": 1,
   "metadata": {},
   "outputs": [],
   "source": [
    "import pandas as pd\n",
    "import os\n",
    "import json\n",
    "from tqdm import tqdm, tqdm_pandas"
   ]
  },
  {
   "cell_type": "code",
   "execution_count": 20,
   "metadata": {},
   "outputs": [],
   "source": [
    "from vnpy_datamanager.engine import ManagerEngine\n",
    "from vnpy.trader.constant import (Exchange, Interval)\n",
    "from vnpy.trader.engine import BaseEngine, MainEngine, EventEngine"
   ]
  },
  {
   "cell_type": "code",
   "execution_count": 2,
   "metadata": {},
   "outputs": [],
   "source": [
    "files = os.listdir('D:/股票歷史資料_各年度合併上櫃//')\n",
    "os.chdir('D:/股票歷史資料_各年度合併上櫃//')"
   ]
  },
  {
   "cell_type": "markdown",
   "metadata": {},
   "source": [
    "**<font  size=5 color = red> 注意:csv檔要符合以下格式</font>**"
   ]
  },
  {
   "cell_type": "code",
   "execution_count": 8,
   "metadata": {},
   "outputs": [
    {
     "data": {
      "text/plain": [
       "'006201.csv'"
      ]
     },
     "execution_count": 8,
     "metadata": {},
     "output_type": "execute_result"
    }
   ],
   "source": [
    "files[0]"
   ]
  },
  {
   "cell_type": "code",
   "execution_count": 9,
   "metadata": {},
   "outputs": [],
   "source": [
    "df = pd.read_csv(files[0],index_col=0)"
   ]
  },
  {
   "cell_type": "code",
   "execution_count": 25,
   "metadata": {},
   "outputs": [
    {
     "data": {
      "text/html": [
       "<div>\n",
       "<style scoped>\n",
       "    .dataframe tbody tr th:only-of-type {\n",
       "        vertical-align: middle;\n",
       "    }\n",
       "\n",
       "    .dataframe tbody tr th {\n",
       "        vertical-align: top;\n",
       "    }\n",
       "\n",
       "    .dataframe thead th {\n",
       "        text-align: right;\n",
       "    }\n",
       "</style>\n",
       "<table border=\"1\" class=\"dataframe\">\n",
       "  <thead>\n",
       "    <tr style=\"text-align: right;\">\n",
       "      <th></th>\n",
       "      <th>datetime</th>\n",
       "      <th>open</th>\n",
       "      <th>high</th>\n",
       "      <th>low</th>\n",
       "      <th>close</th>\n",
       "      <th>volume</th>\n",
       "      <th>turnover</th>\n",
       "    </tr>\n",
       "  </thead>\n",
       "  <tbody>\n",
       "    <tr>\n",
       "      <th>0</th>\n",
       "      <td>2020/01/02 09:00</td>\n",
       "      <td>14.18</td>\n",
       "      <td>14.18</td>\n",
       "      <td>14.18</td>\n",
       "      <td>14.18</td>\n",
       "      <td>2</td>\n",
       "      <td>28.36</td>\n",
       "    </tr>\n",
       "    <tr>\n",
       "      <th>1</th>\n",
       "      <td>2020/01/02 09:06</td>\n",
       "      <td>14.18</td>\n",
       "      <td>14.18</td>\n",
       "      <td>14.18</td>\n",
       "      <td>14.18</td>\n",
       "      <td>4</td>\n",
       "      <td>56.72</td>\n",
       "    </tr>\n",
       "    <tr>\n",
       "      <th>2</th>\n",
       "      <td>2020/01/02 09:10</td>\n",
       "      <td>14.23</td>\n",
       "      <td>14.23</td>\n",
       "      <td>14.23</td>\n",
       "      <td>14.23</td>\n",
       "      <td>5</td>\n",
       "      <td>71.15</td>\n",
       "    </tr>\n",
       "    <tr>\n",
       "      <th>3</th>\n",
       "      <td>2020/01/02 09:11</td>\n",
       "      <td>14.24</td>\n",
       "      <td>14.24</td>\n",
       "      <td>14.24</td>\n",
       "      <td>14.24</td>\n",
       "      <td>1</td>\n",
       "      <td>14.24</td>\n",
       "    </tr>\n",
       "    <tr>\n",
       "      <th>4</th>\n",
       "      <td>2020/01/02 09:18</td>\n",
       "      <td>14.26</td>\n",
       "      <td>14.29</td>\n",
       "      <td>14.26</td>\n",
       "      <td>14.29</td>\n",
       "      <td>9</td>\n",
       "      <td>128.52</td>\n",
       "    </tr>\n",
       "    <tr>\n",
       "      <th>...</th>\n",
       "      <td>...</td>\n",
       "      <td>...</td>\n",
       "      <td>...</td>\n",
       "      <td>...</td>\n",
       "      <td>...</td>\n",
       "      <td>...</td>\n",
       "      <td>...</td>\n",
       "    </tr>\n",
       "    <tr>\n",
       "      <th>12410</th>\n",
       "      <td>2021/12/30 12:36</td>\n",
       "      <td>23.85</td>\n",
       "      <td>23.85</td>\n",
       "      <td>23.85</td>\n",
       "      <td>23.85</td>\n",
       "      <td>3</td>\n",
       "      <td>71.55</td>\n",
       "    </tr>\n",
       "    <tr>\n",
       "      <th>12411</th>\n",
       "      <td>2021/12/30 12:37</td>\n",
       "      <td>23.85</td>\n",
       "      <td>23.85</td>\n",
       "      <td>23.85</td>\n",
       "      <td>23.85</td>\n",
       "      <td>4</td>\n",
       "      <td>95.40</td>\n",
       "    </tr>\n",
       "    <tr>\n",
       "      <th>12412</th>\n",
       "      <td>2021/12/30 12:49</td>\n",
       "      <td>23.85</td>\n",
       "      <td>23.85</td>\n",
       "      <td>23.85</td>\n",
       "      <td>23.85</td>\n",
       "      <td>1</td>\n",
       "      <td>23.85</td>\n",
       "    </tr>\n",
       "    <tr>\n",
       "      <th>12413</th>\n",
       "      <td>2021/12/30 13:12</td>\n",
       "      <td>23.88</td>\n",
       "      <td>23.88</td>\n",
       "      <td>23.88</td>\n",
       "      <td>23.88</td>\n",
       "      <td>1</td>\n",
       "      <td>23.88</td>\n",
       "    </tr>\n",
       "    <tr>\n",
       "      <th>12414</th>\n",
       "      <td>2021/12/30 13:30</td>\n",
       "      <td>23.88</td>\n",
       "      <td>23.88</td>\n",
       "      <td>23.88</td>\n",
       "      <td>23.88</td>\n",
       "      <td>1</td>\n",
       "      <td>23.88</td>\n",
       "    </tr>\n",
       "  </tbody>\n",
       "</table>\n",
       "<p>12415 rows × 7 columns</p>\n",
       "</div>"
      ],
      "text/plain": [
       "               datetime   open   high    low  close  volume  turnover\n",
       "0      2020/01/02 09:00  14.18  14.18  14.18  14.18       2     28.36\n",
       "1      2020/01/02 09:06  14.18  14.18  14.18  14.18       4     56.72\n",
       "2      2020/01/02 09:10  14.23  14.23  14.23  14.23       5     71.15\n",
       "3      2020/01/02 09:11  14.24  14.24  14.24  14.24       1     14.24\n",
       "4      2020/01/02 09:18  14.26  14.29  14.26  14.29       9    128.52\n",
       "...                 ...    ...    ...    ...    ...     ...       ...\n",
       "12410  2021/12/30 12:36  23.85  23.85  23.85  23.85       3     71.55\n",
       "12411  2021/12/30 12:37  23.85  23.85  23.85  23.85       4     95.40\n",
       "12412  2021/12/30 12:49  23.85  23.85  23.85  23.85       1     23.85\n",
       "12413  2021/12/30 13:12  23.88  23.88  23.88  23.88       1     23.88\n",
       "12414  2021/12/30 13:30  23.88  23.88  23.88  23.88       1     23.88\n",
       "\n",
       "[12415 rows x 7 columns]"
      ]
     },
     "execution_count": 25,
     "metadata": {},
     "output_type": "execute_result"
    }
   ],
   "source": [
    "df"
   ]
  },
  {
   "cell_type": "code",
   "execution_count": 26,
   "metadata": {},
   "outputs": [
    {
     "data": {
      "text/plain": [
       "'2020/01/02 09:00'"
      ]
     },
     "execution_count": 26,
     "metadata": {},
     "output_type": "execute_result"
    }
   ],
   "source": [
    "#datetime要是自符串喔\n",
    "df['datetime'][0]"
   ]
  },
  {
   "cell_type": "code",
   "execution_count": null,
   "metadata": {},
   "outputs": [
    {
     "name": "stdout",
     "output_type": "stream",
     "text": [
      "找不到数据服务驱动vnpy_，使用默认的RQData数据服务\n"
     ]
    },
    {
     "name": "stderr",
     "output_type": "stream",
     "text": [
      "100%|██████████| 1337/1337 [57:28<00:00,  2.58s/it] \n"
     ]
    }
   ],
   "source": [
    "files = os.listdir('D:/股票歷史資料_各年度合併上櫃//')\n",
    "os.chdir('D:/股票歷史資料_各年度合併上櫃//')\n",
    "manager = ManagerEngine(MainEngine,EventEngine)\n",
    "for file in tqdm(files):\n",
    "    #file[0:-4]就是去除.csv\n",
    "    manager.import_data_from_csv(file,file[0:-4],Exchange.LOCAL,Interval.MINUTE,\"Asia/Shanghai\",\"datetime\",\"open\",\"high\",\"low\",\"close\",\"volume\",\"turnover\",\"open_interest\",\"%Y/%m/%d %H:%M\")"
   ]
  }
 ],
 "metadata": {
  "kernelspec": {
   "display_name": "Python 3.10.2 64-bit",
   "language": "python",
   "name": "python3"
  },
  "language_info": {
   "codemirror_mode": {
    "name": "ipython",
    "version": 3
   },
   "file_extension": ".py",
   "mimetype": "text/x-python",
   "name": "python",
   "nbconvert_exporter": "python",
   "pygments_lexer": "ipython3",
   "version": "3.10.2"
  },
  "orig_nbformat": 4,
  "vscode": {
   "interpreter": {
    "hash": "1b43cb0bd93d5abbadd54afed8252f711d4681fe6223ad6b67ffaee289648f85"
   }
  }
 },
 "nbformat": 4,
 "nbformat_minor": 2
}
